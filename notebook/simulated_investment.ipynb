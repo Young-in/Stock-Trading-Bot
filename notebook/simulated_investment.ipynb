{
 "cells": [
  {
   "cell_type": "code",
   "execution_count": 47,
   "metadata": {},
   "outputs": [],
   "source": [
    "import history\n",
    "\n",
    "class SimulatedTrade:\n",
    "    def __init__(self,strategy_id):\n",
    "        self.strategy_id = strategy_id\n",
    "        self.history = history.History(strategy_id)\n",
    "        \n",
    "    def buy(self, code, quantity):\n",
    "        if self.history.isBuyable(code, quantity):\n",
    "            trade_data = self.history.tradeData(True, code, quantity)\n",
    "            self.history.writeFile(trade_data)\n",
    "            self.history.updateStatus(trade_data)\n",
    "        else:\n",
    "            print(\"Can't Buy\")\n",
    "            \n",
    "    def sell(self, code, quantity):\n",
    "        if self.history.isSellable(code, quantity):\n",
    "            trade_data = self.history.tradeData(False, code, quantity)\n",
    "            self.history.writeFile(trade_data)\n",
    "            self.history.updateStatus(trade_data)\n",
    "        else:\n",
    "            print(\"Can't Sell\")\n",
    "            \n",
    "    def deposit(self, money=1000000):\n",
    "        deposit_data = self.history.depositData(money)\n",
    "        self.history.writeFile(deposit_data)\n",
    "        self.history.updateStatus(deposit_data)\n",
    "            \n",
    "    def show(self):\n",
    "        print(\"Recent trade: \" + str(self.history.recent_trade_date))\n",
    "        print(\"Balance: \" + str(self.history.balance))\n",
    "        print(\"-----------Stock holding status-------------\")\n",
    "        print(self.history.stock_info)\n",
    "            \n"
   ]
  },
  {
   "cell_type": "code",
   "execution_count": 48,
   "metadata": {},
   "outputs": [],
   "source": [
    "h = SimulatedTrade(556)"
   ]
  },
  {
   "cell_type": "code",
   "execution_count": 49,
   "metadata": {},
   "outputs": [
    {
     "name": "stdout",
     "output_type": "stream",
     "text": [
      "1\n",
      "Can't Buy\n"
     ]
    }
   ],
   "source": [
    "h.buy(\"035720\",1)"
   ]
  },
  {
   "cell_type": "code",
   "execution_count": 50,
   "metadata": {},
   "outputs": [
    {
     "name": "stdout",
     "output_type": "stream",
     "text": [
      "Recent trade: 2021-02-19 16:19:13.978542+09:00\n",
      "Balance: 1000000\n",
      "-----------Stock holding status-------------\n",
      "Empty DataFrame\n",
      "Columns: [code, name, quantity, amount]\n",
      "Index: []\n"
     ]
    }
   ],
   "source": [
    "h.show()"
   ]
  }
 ],
 "metadata": {
  "kernelspec": {
   "display_name": "Python 3",
   "language": "python",
   "name": "python3"
  },
  "language_info": {
   "codemirror_mode": {
    "name": "ipython",
    "version": 3
   },
   "file_extension": ".py",
   "mimetype": "text/x-python",
   "name": "python",
   "nbconvert_exporter": "python",
   "pygments_lexer": "ipython3",
   "version": "3.7.4"
  }
 },
 "nbformat": 4,
 "nbformat_minor": 4
}
