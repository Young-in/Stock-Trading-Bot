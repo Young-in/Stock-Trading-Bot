{
 "cells": [
  {
   "cell_type": "markdown",
   "metadata": {},
   "source": [
    "# **Make Trade History**"
   ]
  },
  {
   "cell_type": "markdown",
   "metadata": {},
   "source": [
    "<reference>\n",
    "    [Markdown](https://datanetworkanalysis.github.io/2019/10/12/markdown)"
   ]
  },
  {
   "cell_type": "markdown",
   "metadata": {},
   "source": [
    "## Install & Update Libraries"
   ]
  },
  {
   "cell_type": "code",
   "execution_count": 65,
   "metadata": {},
   "outputs": [],
   "source": [
    "#!pip install --quiet --upgrade pip requests beautifulsoup4 pandas pd\n",
    "#!pip install --quiet --upgrade pip requests beautifulsoup4 pandas pd matplotlib seaborn selenium"
   ]
  },
  {
   "cell_type": "markdown",
   "metadata": {},
   "source": [
    "!wget -q -O - https://dl-ssl.google.com/linux/linux_signing_key.pub | apt-key add -\n",
    "!echo 'deb [arch=amd64] http://dl.google.com/linux/chrome/deb/ stable main' | tee /etc/apt/sources.list.d/google-chrome.list\n",
    "!apt-get update\n",
    "!apt-get install -y google-chrome-stable"
   ]
  },
  {
   "cell_type": "markdown",
   "metadata": {},
   "source": [
    "!google-chrome --version"
   ]
  },
  {
   "cell_type": "markdown",
   "metadata": {},
   "source": [
    "!wget -N https://chromedriver.storage.googleapis.com/88.0.4324.27/chromedriver_linux64.zip"
   ]
  },
  {
   "cell_type": "markdown",
   "metadata": {},
   "source": [
    "!unzip chromedriver_linux64.zip\n",
    "!chmod +x chromedriver\n",
    "!mv -f chromedriver /usr/local/share/chromedriver\n",
    "!ln -s /usr/local/share/chromedriver /usr/local/bin/chromedriver\n",
    "!ln -s /usr/local/share/chromedriver /usr/bin/chromedriver\n",
    "!rm chromedriver_linux64.zip\n",
    "!apt-get update\n",
    "!apt-get install -y libgconf-2-4"
   ]
  },
  {
   "cell_type": "code",
   "execution_count": 66,
   "metadata": {},
   "outputs": [
    {
     "data": {
      "text/plain": [
       "('2.25.1', '1.2.2', '1.19.4', '0.11.1')"
      ]
     },
     "execution_count": 66,
     "metadata": {},
     "output_type": "execute_result"
    }
   ],
   "source": [
    "import requests\n",
    "from bs4 import BeautifulSoup\n",
    "from selenium import webdriver\n",
    "import os\n",
    "import selenium\n",
    "import pandas as pd\n",
    "import numpy as np\n",
    "import matplotlib.pyplot as plt\n",
    "import seaborn as sns\n",
    "from datetime import datetime\n",
    "%matplotlib inline\n",
    "requests.__version__, pd.__version__, np.__version__, sns.__version__"
   ]
  },
  {
   "cell_type": "code",
   "execution_count": 67,
   "metadata": {},
   "outputs": [
    {
     "data": {
      "text/plain": [
       "('4.9.3', '3.3.4')"
      ]
     },
     "execution_count": 67,
     "metadata": {},
     "output_type": "execute_result"
    }
   ],
   "source": [
    "import bs4\n",
    "import matplotlib\n",
    "bs4.__version__, matplotlib.__version__"
   ]
  },
  {
   "cell_type": "markdown",
   "metadata": {},
   "source": [
    "## get real fee data of NH"
   ]
  },
  {
   "cell_type": "code",
   "execution_count": 68,
   "metadata": {
    "scrolled": true
   },
   "outputs": [],
   "source": [
    "url = \"https://www.nhqv.com/WMDoc.action?viewPage=/guestGuide/business/feeBuySell.jsp&ga_referrer=https%3A%2F%2Fwww.google.com%2F\"\n",
    "#url"
   ]
  },
  {
   "cell_type": "code",
   "execution_count": 69,
   "metadata": {
    "scrolled": true
   },
   "outputs": [],
   "source": [
    "html = requests.get(url)\n",
    "html.raise_for_status()\n",
    "#html.content"
   ]
  },
  {
   "cell_type": "code",
   "execution_count": 70,
   "metadata": {},
   "outputs": [],
   "source": [
    "soup = BeautifulSoup(html.text, 'html.parser')\n",
    "#soup"
   ]
  },
  {
   "cell_type": "markdown",
   "metadata": {
    "scrolled": false
   },
   "source": [
    "tbody = soup.select_one(\"#contents > div:nth-child(2) > table > tbody\")\n",
    "trs = tbody.find_all('tr')\n",
    "columns_=[\"min\",\"max\",\"expression\"]\n",
    "tds = map(lambda x:x.find_all('td').text, trs)\n",
    "td = map(lambda x:x.text,trs)\n",
    "arr = np.array(td)\n",
    "df = pd.DataFrame(columns=columns_).astpye({\n",
    "    'min':'int32'\n",
    "    'max':'int32'\n",
    "    'expression':'object'\n",
    "})\n",
    "td = list(td)[:9]\n",
    "for i, tset in enumerate(td):\n",
    "    temp = tset.split('\\n')\n",
    "    textset = temp[1:len(temp)-1]\n",
    "    money,expression=tuple(textset[2:]) if i == 0 else tuple(textset[0:2])\n",
    "    money = money.replace(\"미만\",\"\").replace(\" \", \"\")\\\n",
    "                    .replace('백','00').replace('천','000').replace('만','0000')\\\n",
    "                        .replace(\"억\",\"00000000\").replace(\"원\",\"\").replace(\"이상\",\"\")\n",
    "    money = money.split(\"~\")\n",
    "    expression = expression.replace('%','')\n",
    "    expression = expression.replace('원','')\n",
    "    expression = '*' + expression\n",
    "    if i == 0:\n",
    "        df = df.append(pd.DataFrame([[np.nan]+money+[expression]],columns=columns_))\n",
    "    elif i == len(td)-1:\n",
    "        df = df.append(pd.DataFrame([money+[np.nan]+[expression]],columns=columns_))\n",
    "    else:\n",
    "        df = df.append(pd.DataFrame([money+[expression]],columns=columns_))"
   ]
  },
  {
   "cell_type": "code",
   "execution_count": null,
   "metadata": {},
   "outputs": [],
   "source": []
  },
  {
   "cell_type": "markdown",
   "metadata": {},
   "source": [
    "## get real time price by beautifulsoup\n",
    "### problem: program execution speed"
   ]
  },
  {
   "cell_type": "code",
   "execution_count": 71,
   "metadata": {},
   "outputs": [],
   "source": [
    "dt = datetime.today().strftime(\"%Y/%m/%d\")\n",
    "#dt"
   ]
  },
  {
   "cell_type": "code",
   "execution_count": 72,
   "metadata": {
    "scrolled": true
   },
   "outputs": [],
   "source": [
    "code = '051910'\n",
    "url = f\"https://finance.naver.com/item/main.nhn?code={code}\"\n",
    "\n",
    "html = requests.get(url)\n",
    "html.raise_for_status()\n",
    "#url"
   ]
  },
  {
   "cell_type": "code",
   "execution_count": null,
   "metadata": {},
   "outputs": [],
   "source": []
  },
  {
   "cell_type": "code",
   "execution_count": 73,
   "metadata": {},
   "outputs": [],
   "source": [
    "import datetime\n",
    "\n",
    "stock_code = \"005930\"\n",
    "        \n",
    "url = f\"https://finance.naver.com/item/main.nhn?code={stock_code}\"\n",
    "html = requests.get(url)\n",
    "html.raise_for_status()\n",
    "    \n",
    "content = BeautifulSoup(html.content, 'html.parser')\n",
    "    \n",
    "stock_div = content.find(\"div\",{\"class\":\"wrap_company\"})\n",
    "stock_name = stock_div.find(\"a\").text\n",
    "\n",
    "feed = content.find(\"p\",{\"class\":\"no_today\"})\n",
    "price = int(feed.find(\"span\",{\"class\":\"blind\"}).text.replace(\",\",\"\"))\n",
    "\n",
    "#now = datetime.datetime.now().strftime(\"%Y-%m-%d %H:%M:%S\")\n",
    "#KST = timezone('Asia/Seoul')\n",
    "now = datetime.datetime.utcnow()\n",
    "#now = KST.localize(now)\n",
    "#now = now.strftime(\"%Y-%m-%d %H:%M:%S\")\n",
    "now = pd.to_datetime(now,format=\"%Y-%m-%d %H:%M:%S\", errors='raise')\n",
    "now_local = now.tz_localize('Asia/Seoul')\n",
    "\n",
    "stock_data = pd.DataFrame([[now_local, stock_name, price]],\n",
    "                          columns=[\"requested_time\",\"name\",\"price\"]).astype({'price':\"int32\"})\n",
    "\n",
    "#stock_data"
   ]
  },
  {
   "cell_type": "markdown",
   "metadata": {},
   "source": [
    "## get real time price by  selenium (????)"
   ]
  },
  {
   "cell_type": "markdown",
   "metadata": {},
   "source": [
    "import selenium\n",
    "from selenium import webdriver\n",
    "from selenium.webdriver import ActionChains\n",
    "\n",
    "from selenium.webdriver.common.keys import Keys\n",
    "from selenium.webdriver.common.by import By\n",
    "\n",
    "from selenium.webdriver.support import expected_conditions as EC\n",
    "from selenium.webdriver.support.ui import Select\n",
    "from selenium.webdriver.support.ui import WebDriverWait\n",
    "\n",
    "code = '005930'\n",
    "url_ = f\"https://finance.daum.net/quotes/A{code}#home\"\n",
    "\n",
    "chrome_options = webdriver.ChromeOptions()\n",
    "chrome_options.add_argument('--headless')\n",
    "chrome_options.add_argument('--no-sandbox')\n",
    "chrome_options.add_argument('--disable-dev-shm-usage')\n",
    "chrome_options.add_argument('--disable-gpu')\n",
    "#can't crawl real time data?\n",
    "driver = webdriver.Chrome(executable_path='chromedriver', options=chrome_options)\n",
    "driver.get(url=url_)\n",
    "\n",
    "value = driver.find_elemment_by_css_selector(\"#boxSummary > div > span:nth-child(1) > span.currentB > span.numB.down > strong\")\n",
    "value.text\n"
   ]
  },
  {
   "cell_type": "markdown",
   "metadata": {},
   "source": [
    "## make history"
   ]
  },
  {
   "cell_type": "code",
   "execution_count": 74,
   "metadata": {
    "scrolled": true
   },
   "outputs": [
    {
     "data": {
      "text/plain": [
       "3"
      ]
     },
     "execution_count": 74,
     "metadata": {},
     "output_type": "execute_result"
    }
   ],
   "source": [
    "data = pd.DataFrame({'date':pd.date_range(\"2020-01-03\",periods=3),'price':[5,4,3],'quantity':[4,11,2]}\n",
    "                    ,columns=[\"date\",\"price\",\"quantity\"]\n",
    "                    ,index=list(\"abc\"))\n",
    "#data.loc[data.idxmax()[\"hm\"]]\n",
    "temp = data.loc[\"b\"]\n",
    "temp2 = data.loc[\"c\"]\n",
    "data.loc[\"c\"] = temp\n",
    "data.loc[\"b\"] = temp2\n",
    "data.loc[data[\"date\"].idxmax()][\"price\"]"
   ]
  },
  {
   "cell_type": "code",
   "execution_count": 75,
   "metadata": {},
   "outputs": [],
   "source": [
    "data = pd.DataFrame(np.arange(25).reshape((5,5)),columns=list(\"abcde\"))\n",
    "data[\"index\"] = [\"a\",\"a\",\"b\",\"a\", \"b\"]\n",
    "data[\"index2\"] = [\"c\",\"c\",\"d\",\"c\",\"d\"]\n",
    "data.groupby([\"index\",\"index2\"])[[\"c\",\"d\"]].sum()\n",
    "data[\"money_used\"] = data[\"b\"]*data[\"c\"]\n",
    "#data\n"
   ]
  },
  {
   "cell_type": "code",
   "execution_count": 76,
   "metadata": {},
   "outputs": [],
   "source": [
    "data = data.groupby([\"index\",\"index2\"])[[\"c\",\"d\",\"money_used\"]].sum()\n",
    "data = data.reset_index().set_index(\"index\")\n",
    "#data"
   ]
  },
  {
   "cell_type": "code",
   "execution_count": 77,
   "metadata": {},
   "outputs": [],
   "source": [
    "temp = pd.DataFrame(columns=list('abc'))\n",
    "temp[\"d\"] = [3]\n",
    "#temp.dtypes"
   ]
  },
  {
   "cell_type": "code",
   "execution_count": 78,
   "metadata": {},
   "outputs": [],
   "source": [
    "import datetime\n",
    "from pytz import timezone, utc\n",
    "\n",
    "KST = timezone('Asia/Seoul')\n",
    "now = datetime.datetime.utcnow()\n",
    "#utc.localize(now)\n",
    "#KST.localize(now)\n",
    "now_local = utc.localize(now).astimezone(KST)\n",
    "\n",
    "temp_date = datetime.datetime(2021,2,2,1,0,15,881617)\n",
    "temp_date = utc.localize(temp_date).astimezone(timezone(\"Asia/Seoul\"))\n",
    "\n",
    "#temp_date > now_local"
   ]
  },
  {
   "cell_type": "code",
   "execution_count": 79,
   "metadata": {},
   "outputs": [
    {
     "data": {
      "text/plain": [
       "2"
      ]
     },
     "execution_count": 79,
     "metadata": {},
     "output_type": "execute_result"
    }
   ],
   "source": [
    "history_file_name = \"../data/history/\"+\"purchase_history_\" + \"1\" + \".csv\"\n",
    "#fd = open(history_file_name,'w')\n",
    "#fd.close()\n",
    "\n",
    "dt_parser = lambda x: datetime.datetime.strptime(x, \"%Y-%m-%d %H:%M:%S+%Z\")\n",
    "history = pd.read_csv(history_file_name,\n",
    "                      names=[\"wow\",\"jeon\",\"yeok\"]).astype({\"wow\":\"category\"})\n",
    "history[\"yeok\"]=pd.to_datetime(history[\"yeok\"],\n",
    "                               format=\"%Y-%m-%d %H:%M:%S+%z\",\n",
    "                               errors=\"raise\")\n",
    "len(history)\n"
   ]
  },
  {
   "cell_type": "code",
   "execution_count": 80,
   "metadata": {},
   "outputs": [
    {
     "data": {
      "text/plain": [
       "4"
      ]
     },
     "execution_count": 80,
     "metadata": {},
     "output_type": "execute_result"
    }
   ],
   "source": [
    "a = pd.DataFrame(np.arange(15).reshape((5,3)),columns=list(\"abc\"))\n",
    "abs(-4)"
   ]
  },
  {
   "cell_type": "code",
   "execution_count": 81,
   "metadata": {
    "scrolled": false
   },
   "outputs": [
    {
     "data": {
      "text/plain": [
       "5441"
      ]
     },
     "execution_count": 81,
     "metadata": {},
     "output_type": "execute_result"
    }
   ],
   "source": [
    "#import useful_function as uf\n",
    "#import crawler\n",
    "import os\n",
    "import pytz\n",
    "\n",
    "def isFileExist(file_name):\n",
    "    \"\"\"\n",
    "    Check if file( or directory) exists\n",
    "    if file exists, it returns True.\n",
    "    \"\"\"\n",
    "    return os.path.exists(file_name)\n",
    "\n",
    "def getRecentFeeData(path=\"../data/fee/\"):\n",
    "    if isFileExist(path):\n",
    "        file_list = os.listdir(path)\n",
    "        if len(file_list) > 0:\n",
    "            file_name = max(file_list)\n",
    "            data = pd.read_csv(path+file_name)\n",
    "            return data\n",
    "        else:\n",
    "            raise Exception(\"No Fee Data File : \" + path)\n",
    "    else:\n",
    "        raise Exception(\"Directory not Found : \" + path)\n",
    "        \n",
    "def getNet(trade_type, price, tax = 0.003):\n",
    "    fee_data = getRecentFeeData()\n",
    "    net = 0\n",
    "    price = abs(price)\n",
    "    \n",
    "    min_df = fee_data[fee_data[\"min\"] <= price]\n",
    "    max_df = fee_data[fee_data[\"max\"] > price]\n",
    "    inner_row = pd.concat([min_df,max_df],axis=1,join=\"inner\").T.drop_duplicates()\n",
    "    fee_expression = inner_row.loc[\"expression\",inner_row.columns[0]]\n",
    "    net += int(eval(str(price)+fee_expression))\n",
    "    if not trade_type:\n",
    "        net += int(price * tax)\n",
    "    return net\n",
    "    \n",
    "        \n",
    "def checkStockCode(stock_code):\n",
    "    \"\"\" Check whether the stock code exists\n",
    "    \n",
    "    Parameters\n",
    "    ----------\n",
    "    stock_code : str\n",
    "        the stock code (ex. \"005930\")\n",
    "    \"\"\"\n",
    "    url = f\"https://finance.daum.net/quotes/A{stock_code}#home\"\n",
    "    \n",
    "    html = requests.get(url)\n",
    "    html.raise_for_status()\n",
    "    \n",
    "    return \"alert\" not in html.text\n",
    "\n",
    "def getCurrentStockData(stock_code, timezone=\"Asia/Seoul\"):\n",
    "    \"\"\"\n",
    "    Return current data of requested company\n",
    "    Parameters\n",
    "    ----------\n",
    "    stock_code : str\n",
    "        the stock code (ex. \"005930\")\n",
    "    Return Value\n",
    "    ----------\n",
    "    DataFrame\n",
    "    ex)\n",
    "    requested_time\t                 name    price\n",
    "    2021-01-30 05:31:34.130440+09:00 삼성전자 82000\n",
    "    \"\"\"\n",
    "    now_local = getLocalTime(timezone)\n",
    "    \n",
    "    if not checkStockCode(stock_code):\n",
    "        raise ValueError(\"Nonexistent stock code\")\n",
    "    url = f\"https://finance.naver.com/item/main.nhn?code={stock_code}\"\n",
    "    html = requests.get(url)\n",
    "    html.raise_for_status()\n",
    "\n",
    "    content = BeautifulSoup(html.content, 'html.parser')\n",
    "    \n",
    "    stock_div = content.find(\"div\",{\"class\":\"wrap_company\"})\n",
    "    stock_name = stock_div.find(\"a\").text\n",
    "\n",
    "    feed = content.find(\"p\",{\"class\":\"no_today\"})\n",
    "    price = int(feed.find(\"span\",{\"class\":\"blind\"}).text.replace(\",\",\"\"))\n",
    "    \n",
    "    stock_data = pd.DataFrame([[now_local, stock_name, price]],\n",
    "                          columns=[\"requested_time\",\"stock_name\",\"price\"]).astype({\n",
    "                            \"stock_name\":\"object\",\n",
    "                            \"price\":\"int32\"})\n",
    "    \n",
    "    return stock_data\n",
    "\n",
    "def getLocalTime(area = \"Asia/Seoul\"):\n",
    "    \"\"\"\n",
    "    Return local time whose format is \"Year-Month-Day Hour:Minute:Second\"\n",
    "    Default area is seoul.\n",
    "    UTC clock(?) is based on UK, so we need to localize clock.\n",
    "    \"\"\"\n",
    "    KST = pytz.timezone(area)\n",
    "    now = datetime.datetime.now(tz=pytz.timezone(area))\n",
    "    #now_local = pytz.utc.localize(now).astimezone(KST)\n",
    "    return now\n",
    "\n",
    "def checkMarketOpened(now, area=\"Asia/Seoul\"):\n",
    "    #limited for Korea market\n",
    "    date = datetime.datetime.today().date()\n",
    "    open_time = datetime.datetime.combine(date,datetime.datetime(2021,1,1,9,0).time(),\n",
    "                                         tzinfo=pytz.timezone(\"Asia/Seoul\"))\n",
    "    close_time = datetime.datetime.combine(date,datetime.datetime(2021,1,1,15,30).time(),\n",
    "                                         tzinfo=pytz.timezone(\"Asia/Seoul\"))\n",
    "\n",
    "    return True if now > open_time and now < close_time else False\n",
    "\n",
    "getNet(False, 1000000)"
   ]
  },
  {
   "cell_type": "code",
   "execution_count": 82,
   "metadata": {},
   "outputs": [
    {
     "data": {
      "text/plain": [
       "802"
      ]
     },
     "execution_count": 82,
     "metadata": {},
     "output_type": "execute_result"
    }
   ],
   "source": [
    "def getNet(trade_type, price, tax = 0.003):\n",
    "    fee_data = getRecentFeeData()\n",
    "    net = 0\n",
    "    price = abs(price)\n",
    "    \n",
    "    min_df = fee_data[fee_data[\"min\"] <= price]\n",
    "    max_df = fee_data[fee_data[\"max\"] > price]\n",
    "    inner_row = pd.concat([min_df,max_df],axis=1,join=\"inner\").T.drop_duplicates()\n",
    "    fee_expression = inner_row.loc[\"expression\",inner_row.columns[0]]\n",
    "    net += int(eval(str(price)+fee_expression))\n",
    "    if not trade_type:\n",
    "        net += int(price * tax)\n",
    "    return net\n",
    "\n",
    "getNet(False,100500)"
   ]
  },
  {
   "cell_type": "code",
   "execution_count": 83,
   "metadata": {},
   "outputs": [],
   "source": [
    "stock_data = pd.DataFrame([[1,\"005930\",4,30],[2,\"123456\",5,50],\n",
    "                  [3,\"123523\",5,40],[4,\"213523\",np.nan,66]],columns=list(\"abcd\"),\n",
    "                          index=[\"삼성전자\",\"작통단\",\"휴가\",\"한화생명\"])\n",
    "#stock_data"
   ]
  },
  {
   "cell_type": "code",
   "execution_count": 84,
   "metadata": {},
   "outputs": [
    {
     "data": {
      "text/html": [
       "<div>\n",
       "<style scoped>\n",
       "    .dataframe tbody tr th:only-of-type {\n",
       "        vertical-align: middle;\n",
       "    }\n",
       "\n",
       "    .dataframe tbody tr th {\n",
       "        vertical-align: top;\n",
       "    }\n",
       "\n",
       "    .dataframe thead th {\n",
       "        text-align: right;\n",
       "    }\n",
       "</style>\n",
       "<table border=\"1\" class=\"dataframe\">\n",
       "  <thead>\n",
       "    <tr style=\"text-align: right;\">\n",
       "      <th></th>\n",
       "      <th>a</th>\n",
       "      <th>b</th>\n",
       "      <th>c</th>\n",
       "      <th>d</th>\n",
       "    </tr>\n",
       "  </thead>\n",
       "  <tbody>\n",
       "    <tr>\n",
       "      <th>wow</th>\n",
       "      <td>5</td>\n",
       "      <td>262432</td>\n",
       "      <td>5</td>\n",
       "      <td>222</td>\n",
       "    </tr>\n",
       "  </tbody>\n",
       "</table>\n",
       "</div>"
      ],
      "text/plain": [
       "     a       b  c    d\n",
       "wow  5  262432  5  222"
      ]
     },
     "execution_count": 84,
     "metadata": {},
     "output_type": "execute_result"
    }
   ],
   "source": [
    "new_stock_data = pd.DataFrame([[5,\"262432\",5,222]],columns=list(\"abcd\"),index=[\"wow\"])\n",
    "#stock_data = pd.concat([stock_data,new_stock_data])\n",
    "new_stock_data"
   ]
  },
  {
   "cell_type": "code",
   "execution_count": 85,
   "metadata": {},
   "outputs": [],
   "source": [
    "stock_data = pd.concat([stock_data,new_stock_data])\n",
    "#stock_data"
   ]
  },
  {
   "cell_type": "code",
   "execution_count": 86,
   "metadata": {},
   "outputs": [
    {
     "data": {
      "text/plain": [
       "True"
      ]
     },
     "execution_count": 86,
     "metadata": {},
     "output_type": "execute_result"
    }
   ],
   "source": [
    "now_local = getLocalTime()\n",
    "balance = 200231\n",
    "c = [\"date\",\"stock_code\",\"stock_name\",\"price\",\"quantity\",\"total_amount\",\"balance\"]\n",
    "d = [now_local,np.nan,np.nan,np.nan,np.nan,np.nan,balance]\n",
    "\n",
    "temp = pd.DataFrame([d],columns=c)\n",
    "temp.loc[temp.index[0],\"stock_code\":\"total_amount\"].isnull().all()"
   ]
  },
  {
   "cell_type": "code",
   "execution_count": 87,
   "metadata": {},
   "outputs": [
    {
     "data": {
      "text/plain": [
       "0    datetime64[ns, Asia/Seoul]\n",
       "dtype: object"
      ]
     },
     "execution_count": 87,
     "metadata": {},
     "output_type": "execute_result"
    }
   ],
   "source": [
    "date = datetime.datetime.today().date()\n",
    "open_time = datetime.datetime.combine(date,datetime.datetime(2021,1,1,0,0).time(),\n",
    "                                         tzinfo=pytz.timezone(\"Asia/Seoul\"))\n",
    "close_time = datetime.datetime.combine(date,datetime.datetime(2021,1,1,6,30).time(),\n",
    "                                         tzinfo=pytz.timezone(\"Asia/Seoul\"))\n",
    "pd.DataFrame([[getLocalTime()]]).dtypes"
   ]
  },
  {
   "cell_type": "code",
   "execution_count": 88,
   "metadata": {},
   "outputs": [
    {
     "data": {
      "text/plain": [
       "1"
      ]
     },
     "execution_count": 88,
     "metadata": {},
     "output_type": "execute_result"
    }
   ],
   "source": [
    "temp1 = pd.DataFrame([[getLocalTime(),\"005930\",\"삼성전자\",79000,10,790000,444444]],\n",
    "                    columns=[\"date\",\"stock_code\",\"stock_name\",\n",
    "                             \"price\",\"quantity\",\"total_amount\",\"balance\"]).astype({\n",
    "                                                \"stock_code\":\"object\",\n",
    "                \"stock_name\":\"object\",\n",
    "                \"price\":\"int64\",\n",
    "                \"quantity\":\"int64\",\n",
    "                \"total_amount\":\"int64\",\n",
    "                \"balance\":\"int64\"})\n",
    "                            \n",
    "temp2 = pd.DataFrame([[getLocalTime(),\"005922\",\"한화\",790,4,3160,444444]],\n",
    "                    columns=[\"date\",\"stock_code\",\"stock_name\",\n",
    "                             \"price\",\"quantity\",\"total_amount\",\"balance\"]).astype({\n",
    "                                                \"stock_code\":\"object\",\n",
    "                \"stock_name\":\"object\",\n",
    "                \"price\":\"int64\",\n",
    "                \"quantity\":\"int64\",\n",
    "                \"total_amount\":\"int64\",\n",
    "                \"balance\":\"int64\"})\n",
    "temp1.shape[0]"
   ]
  },
  {
   "cell_type": "code",
   "execution_count": 89,
   "metadata": {},
   "outputs": [],
   "source": [
    "time_type = pd.Series([getLocalTime()]).dtype\n",
    "wo = [time_type] + [\"object\",\"object\",\"int64\",\"int64\",\"int64\",\"int64\"]\n",
    "#wo"
   ]
  },
  {
   "cell_type": "code",
   "execution_count": 90,
   "metadata": {},
   "outputs": [],
   "source": [
    "import os\n",
    "import re\n",
    "#히스토리 쓰는 클래스\n",
    "#쓰기, 상태 리턴(가지고 있는 주식 개수), \n",
    "#csv파일 명은 purchase_history_[strategy_index]\n",
    "#시간 관련 함수 만들어야 할 듯 utc + 9\n",
    "#타입 제대로 적기\n",
    "#단 history와 trade간 업데이트 하는 함수가 하나 필요할 듯 -> 진위 판단\n",
    "#history에서 거래에 대한 요약본을 관리하는 대신 트레이드와 히스토리 클래스간 업데이트하는 함수 만들자\n",
    "\n",
    "def getRecentFeeData(path=\"../data/fee/\"):\n",
    "    if isFileExist(path):\n",
    "        file_list = os.listdir(path)\n",
    "        if len(file_list) > 0:\n",
    "            file_name = max(file_list)\n",
    "            data = pd.read_csv(path+file_name)\n",
    "            return data\n",
    "        else:\n",
    "            raise FileNotFoundError(\"No Fee Data File : \" + path)\n",
    "    else:\n",
    "        raise FileNotFoundError(\"Directory not Found : \" + path)\n",
    "        \n",
    "def checkMarketOpened(now, area=\"Asia/Seoul\"):\n",
    "    #limited for Korea market\n",
    "    date = datetime.datetime.today().date()\n",
    "    open_time = datetime.datetime.combine(date,datetime.datetime(2021,1,1,0,0).time(),\n",
    "                                         tzinfo=pytz.timezone(\"Asia/Seoul\"))\n",
    "    close_time = datetime.datetime.combine(date,datetime.datetime(2021,1,1,6,30).time(),\n",
    "                                         tzinfo=pytz.timezone(\"Asia/Seoul\"))\n",
    "    \n",
    "    return True if now > open_time and now < close_time else False\n",
    "    \n",
    "#조건 체크\n",
    "#shape\n",
    "#마켓열려있는지도 확인\n",
    "class History:\n",
    "    def __init__(self, strategy_id, seed_money = 1000000, data_path=\"../data/history/\"):\n",
    "        self.data_path = data_path\n",
    "        self.strategy_id = strategy_id\n",
    "        self.history_file_name = data_path + \"purchase_history_\" + str(self.strategy_id) + \".csv\"\n",
    "        self.columns = [\"date\",\"stock_code\",\"stock_name\",\"price\",\"quantity\",\"total_amount\",\"net\",\"balance\"]\n",
    "        self.dtypes = [\"object\",\"object\",\"int64\",\"int64\",\"int64\",\"int64\",\"int64\"]\n",
    "        self.fd = open(self.history_file_name,\"a\").close()\n",
    "        self.balance = 0\n",
    "        self.stock_data, self.balance, self.recent_trade_date = self.setStatus(seed_money)\n",
    "        \n",
    "    def readHistoryFile(self):\n",
    "        if isFileExist(self.history_file_name):\n",
    "            try:\n",
    "                #format=\"%Y-%m-%d %H:%M:%S+%z\"\n",
    "                history = pd.read_csv(self.history_file_name,\n",
    "                            dtype={\"stock_code\":\"object\",\"stock_name\":\"object\"},\n",
    "                            names=self.columns).astype({\"stock_code\":\"category\",\"stock_name\":\"category\"})\n",
    "                history[\"date\"]=pd.to_datetime(history[\"date\"],errors=\"raise\")\n",
    "                return history\n",
    "            except pd.errors.EmptyDataError:\n",
    "                raise pd.errors.EmptyDataError(\"No Data to Read : \" + history_file_name)\n",
    "        else:\n",
    "            raise FileNotFoundError(\"No History File : \" + history_file_name)\n",
    "    #데이터 확인\n",
    "    def writeHistoryFile(self, data):\n",
    "        if not isFileExist(self.history_file_name):\n",
    "            raise FilenotFoundError(\"No History File : \" + history_file_name)\n",
    "        #date_format=\"%Y-%m-%d %H:%M:%S+%Z\"\n",
    "        data.to_csv(self.history_file_name,mode='a',header=False,index=False)\n",
    "\n",
    "    def setStatus(self, seed_money):\n",
    "        #현재 가지고 있는 전체 주식들 정보 / 현재 남은 돈\n",
    "        #입금한건 어떻게 읽누?\n",
    "        #stock_data dataframe\n",
    "        #stock_code | stock_name quantity money_used\n",
    "        \n",
    "        history = self.readHistoryFile()\n",
    "        if history.shape[0] > 0: #no data to read -> 초기 datagram 형성 불가\n",
    "            #null data is not contained in groupby data\n",
    "            stock_data = history.groupby([\"stock_code\",\"stock_name\"])[[\"quantity\",\"total_amount\"]].sum()\n",
    "            stock_data = stock_data.reset_index().set_index(\"stock_code\")\n",
    "            recent = history.loc[history[\"date\"].idxmax()]\n",
    "            recent_balance = recent[\"balance\"]\n",
    "            recent_date = recent[\"date\"]\n",
    "        else:\n",
    "            self.writeHistoryFile(self.putMoney(seed_money))\n",
    "            stock_data = pd.DataFrame(columns=[\"stock_code\",\"stock_name\",\"quantity\",\"total_amount\"])\n",
    "            stock_data.set_index(\"stock_code\")\n",
    "            recent_balance = seed_money\n",
    "            recent_date = getLocalTime()\n",
    "        stock_data.astype({\n",
    "            \"stock_name\":\"object\",\n",
    "            \"quantity\":\"int64\",\n",
    "            \"total_amount\":\"int64\"\n",
    "            })\n",
    "        return stock_data, recent_balance, recent_date  #입금액 = recent[\"balance\"] - stock_data.sum()\n",
    "    \n",
    "    def getStatus(self, stock_code):\n",
    "        try:\n",
    "            if not re.compile(\"\\d{6}\").match(stock_code) and len(stock_code) != 6:\n",
    "                raise Exception(\"Wrong Input : \" + stock_code)\n",
    "        except TypeError:\n",
    "            raise TypeError(\"Wrong Input : \" + stock_code)\n",
    "        \n",
    "        try:\n",
    "            temp = self.stock_data.loc[stock_code]\n",
    "            return temp\n",
    "        except KeyError:\n",
    "            raise KeyError(\"No Data : \" + stock_code)\n",
    "            \n",
    "    def check_data(self,data):\n",
    "        #column / dtype\n",
    "        error_count = 0\n",
    "        index = data.index[0]\n",
    "        stock_code = data.loc[index,\"stock_code\"]\n",
    "        is_column_same = True\n",
    "        comp = pd.DataFrame([[getLocalTime(),\"000000\",\"0\",0,0,0,0,0]],\n",
    "                            columns=self.columns).astype(dict(zip(columns[self.columns.index(\"stock_code\"):],self.dtypes)))\n",
    "        \n",
    "        if data.loc[index,\"date\"] < self.recent_trade_date:\n",
    "            raise Exception(\"Time Error <Recent trade is occured earlier than now : \"\n",
    "                            + data.loc[index,\"date\"] + \">\")\n",
    "            \n",
    "        if not (data.columns == comp.columns).all():\n",
    "            error_count += 1\n",
    "            is_column_same = False\n",
    "            \n",
    "        if data.loc[data.index[0],\"stock_code\":\"total_amount\"].isnull().all() and is_column_same: #입금 데이터\n",
    "            if not data.dtypes.date == comp.dtypes.date or not data.dtypes.balance == comp.dtypes.balance:\n",
    "                error_count += 1\n",
    "                \n",
    "        elif not (data.dtypes == comp.dtypes).all() and is_column_same:\n",
    "            error_count += 1\n",
    "            \n",
    "        elif is_column_same:\n",
    "            if not re.compile(\"\\d{6}\").match(stock_code) and not len(stock_code) == 6:\n",
    "                error_count += 1\n",
    "            if not data.loc[index,\"price\"] * data.loc[index,\"quantity\"] == data.loc[index,\"total_amount\"]:\n",
    "                error_count += 1\n",
    "        \n",
    "        return False if error_count > 0 else True\n",
    "    \n",
    "    def isBuyable(self, data):\n",
    "        #datagram에 문제 있으면 raise\n",
    "        #주식 장이 안열려있으면 못함\n",
    "        #잔고\n",
    "        #최근 구매가 현재 시간을 넘으면 안됨 -> 이거는 함수로 하나 만들자\n",
    "        #데이터 적절성 검사 코드 -> 모든 data 들어가는 함수에 쓰자 / 시간 검사 코드 / 마켓 열린지 확인\n",
    "        error_count = 0\n",
    "        if not self.check_data(data):\n",
    "            error_count += 1\n",
    "        else:\n",
    "            if data.loc[data.index[0],\"date_time\"] < self.recent_trade_date:\n",
    "                raise Exception(\"Time Error <Recent trade is occured earlier than now : \"\n",
    "                    + stock_data[\"requested time\"] + \">\")\n",
    "            \n",
    "            if self.balance - data.loc[data.index[0],\"total_amount\"] < 0:\n",
    "                error_count += 1\n",
    "        \n",
    "        return True if error_count > 0 else False\n",
    "        \n",
    "    def isSellable():\n",
    "        pass\n",
    "        #최근 구매가 현재 시간을 넘으면 안됨\n",
    "        #가지고 있는 주식개수가 살려는 주식 개수 넘으면 안됨\n",
    "        \n",
    "    #buyStock이랑 sellStock 합쳐서 그냥 dataframe 만드는 함수로 바꾸기\n",
    "    def tradeStock(self, trade_type, stock_code, quantity):\n",
    "        #trade_type = True -> 매수, False -> 매도\n",
    "        #데이터 구성하는 함수\n",
    "        ''' \n",
    "        https://spoqa.github.io/2012/08/03/about-python-coding-convention.html\n",
    "        전반적인 함수명 조정이 필요할 듯 / column list 인스턴스로 올리기\n",
    "        *quantity에서 판거는 -x 사는거는 x -> 파는 것과 사는것의 공식이 같다\n",
    "        *현재 파일에는 column 저장하지 않음\n",
    "        *현재 시간은 datetime64로 저장되있음. 다른 timezone끼리는 계산이 안됨. 해외 주식 할려면 고쳐야함\n",
    "        한 파일에 여러 timezone이 있으면 to_datetime써도 object로 인식됨\n",
    "        -> 다른 timezone은 다른 type의 object로 인식되는 듯\n",
    "        -> 다른 timezone도 그냥 같은 utc clock으로 인식하게끔 만들어보기\n",
    "        -> 다른 나라 주식은 하게되면 바꾸자..\n",
    "        주식을 사고 팔 때 쓰는 함수\n",
    "        주식 거래 -> write history -> history 인스턴스 업데이트\n",
    "        '''\n",
    "        try:\n",
    "            if not re.compile(\"\\d{6}\").match(stock_code) and len(stock_code) != 6:\n",
    "                raise Exception(\"Wrong Input : \" + stock_code)\n",
    "        except TypeError:\n",
    "            raise TypeError(\"Wrong Input : \" + stock_code)\n",
    "            \n",
    "        quantity = int(quantity) if trade_type else -int(quantity)\n",
    "        if quantity == 0:\n",
    "            raise Exception(\"Wrong Input : \" + quantity)\n",
    "            \n",
    "        if not checkStockCode(stock_code):\n",
    "            raise ValueError(\"Nonexistent stock code\")\n",
    "            \n",
    "        stock_data = getCurrentStockData(stock_code).loc[0] #\"requested_time\",\"name\",\"price\"\n",
    "        \n",
    "        if stock_data[\"requested_time\"] < self.recent_trade_date:\n",
    "            raise Exception(\"Time Error <Recent trade is occured earlier than now : \"\n",
    "                            + stock_data[\"requested time\"] + \">\")\n",
    "            \n",
    "        total_amount = quantity * stock_data['price']\n",
    "        net = getNet(trade_type, total_amount)\n",
    "        balance = self.balance - total_amount - net #not update balance and stock_data yet\n",
    "        \n",
    "        info = [stock_data[\"requested_time\"],stock_code,stock_data[\"stock_name\"],\n",
    "                   stock_data[\"price\"], quantity, abs(total_amount), net, balance]\n",
    "        \n",
    "        data = pd.DataFrame([info],columns=self.columns).astype(dict(zip(self.columns[self.columns.index(\"stock_code\"):],self.dtypes)))\n",
    "        return data\n",
    "            \n",
    "    def putMoney(self, money):\n",
    "        money = int(money)\n",
    "        if money <= 0:\n",
    "            raise Exception(\"Wrong Input : \" + money)\n",
    "        \n",
    "        now_local = getLocalTime()\n",
    "        balance = self.balance + money\n",
    "        \n",
    "        info = [now_local] + [np.nan]*6 + [balance]\n",
    "        data = pd.DataFrame([info],columns=self.columns)\n",
    "        \n",
    "        return data\n",
    "        \n",
    "    def __update(self, data):\n",
    "        #https://pandas.pydata.org/pandas-docs/stable/user_guide/indexing.html#returning-a-view-versus-a-copy\n",
    "        if not len(data.index) == 1:\n",
    "            raise Exception(\"Wrong Input : \" + data)\n",
    "        \n",
    "        #stock_code | stock_name quantity money_used\n",
    "        index_name = data.index[0]\n",
    "        stock_code = data.loc[index_name,\"stock_code\"]\n",
    "        \n",
    "        if stock_code in self.stock_data.index:\n",
    "            new_quantity = self.stock_data.loc[stock_code,\"quantity\"]+data.loc[index_name,\"quantity\"]\n",
    "            self.stock_data.loc[stock_code,\"quantity\"] = new_quantity\n",
    "            new_money_used = self.stock_data.loc[stock_code,\"money_used\"]+data.loc[index_name,\"total_amount\"]\n",
    "            self.stock_data.loc[stock_code,\"money_used\"] = new_money_used\n",
    "        \n",
    "        else:\n",
    "            #여기부터 새로운 정보일 경우 추가하는 부분\n",
    "            info = data.loc[index_name,[\"stock_name\",\"quantity\",\"total_amount\"]]\n",
    "            new_row = pd.DataFrame([info],\n",
    "                                   index=[data.loc[index_name,\"stock_code\"]],\n",
    "                                   columns=[\"stock_name\",\"quantity\",\"total_amount\"])\n",
    "            self.stock_data = pd.concat([self.stock_data,new_row])\n",
    "    \n",
    "        self.balance = data.loc[index_name,\"balance\"]\n",
    "        self.recent_trade_date = data.loc[index_name,\"date\"] \n",
    "    \n",
    "    def update(self, data):\n",
    "        self.__update(data)\n",
    "    "
   ]
  },
  {
   "cell_type": "code",
   "execution_count": 91,
   "metadata": {},
   "outputs": [],
   "source": [
    "h = History(77)"
   ]
  },
  {
   "cell_type": "code",
   "execution_count": 92,
   "metadata": {},
   "outputs": [
    {
     "data": {
      "text/html": [
       "<div>\n",
       "<style scoped>\n",
       "    .dataframe tbody tr th:only-of-type {\n",
       "        vertical-align: middle;\n",
       "    }\n",
       "\n",
       "    .dataframe tbody tr th {\n",
       "        vertical-align: top;\n",
       "    }\n",
       "\n",
       "    .dataframe thead th {\n",
       "        text-align: right;\n",
       "    }\n",
       "</style>\n",
       "<table border=\"1\" class=\"dataframe\">\n",
       "  <thead>\n",
       "    <tr style=\"text-align: right;\">\n",
       "      <th></th>\n",
       "      <th>date</th>\n",
       "      <th>stock_code</th>\n",
       "      <th>stock_name</th>\n",
       "      <th>price</th>\n",
       "      <th>quantity</th>\n",
       "      <th>total_amount</th>\n",
       "      <th>net</th>\n",
       "      <th>balance</th>\n",
       "    </tr>\n",
       "  </thead>\n",
       "  <tbody>\n",
       "    <tr>\n",
       "      <th>0</th>\n",
       "      <td>2021-02-15 17:13:15.472946+09:00</td>\n",
       "      <td>005930</td>\n",
       "      <td>삼성전자</td>\n",
       "      <td>84200</td>\n",
       "      <td>10</td>\n",
       "      <td>842000</td>\n",
       "      <td>2166</td>\n",
       "      <td>-662287</td>\n",
       "    </tr>\n",
       "  </tbody>\n",
       "</table>\n",
       "</div>"
      ],
      "text/plain": [
       "                              date stock_code stock_name  price  quantity  \\\n",
       "0 2021-02-15 17:13:15.472946+09:00     005930       삼성전자  84200        10   \n",
       "\n",
       "   total_amount   net  balance  \n",
       "0        842000  2166  -662287  "
      ]
     },
     "execution_count": 92,
     "metadata": {},
     "output_type": "execute_result"
    }
   ],
   "source": [
    "w = h.tradeStock(True , \"005930\",10)\n",
    "w"
   ]
  },
  {
   "cell_type": "code",
   "execution_count": null,
   "metadata": {
    "scrolled": true
   },
   "outputs": [],
   "source": [
    "w = h.tradeStock(False , \"005930\",10)\n",
    "w"
   ]
  },
  {
   "cell_type": "code",
   "execution_count": null,
   "metadata": {},
   "outputs": [],
   "source": [
    "columns = [\"date\",\"stock_code\",\"stock_name\",\"price\",\"quantity\",\"total_amount\",\"net\",\"balance\"]\n",
    "dtypes = [\"object\",\"object\",\"int64\",\"int64\",\"int64\",\"int64\",\"int64\"]\n",
    "#dict(zip(columns[columns.index(\"stock_code\"):],dtypes))"
   ]
  },
  {
   "cell_type": "code",
   "execution_count": null,
   "metadata": {},
   "outputs": [],
   "source": [
    "import datetime\n",
    "\n",
    "def getLocalTime(area = \"Asia/Seoul\"):\n",
    "    \"\"\"\n",
    "    Return local time whose format is \"Year-Month-Day Hour:Minute:Second\"\n",
    "    Default area is seoul.\n",
    "    UTC clock(?) is based on UK, so we need to localize clock.\n",
    "    \"\"\"\n",
    "    KST = pytz.timezone(area)\n",
    "    now = datetime.datetime.now(tz=pytz.timezone(area))\n",
    "    #now_local = pytz.utc.localize(now).astimezone(KST)\n",
    "    return now\n",
    "\n",
    "def checkMarketOpened(now, area=\"Asia/Seoul\"):\n",
    "    #limited for Korea market\n",
    "    day_list = ['mon',\"tue\",\"wed\",\"thu\",\"fri\",\"sat\",\"sun\"]\n",
    "    day = day_list[now.weekday()]\n",
    "    date = datetime.datetime.today().date()\n",
    "    open_time = datetime.datetime.combine(date,datetime.datetime(2021,1,1,9,0).time(),\n",
    "                                         tzinfo=pytz.timezone(\"Asia/Seoul\"))\n",
    "    close_time = datetime.datetime.combine(date,datetime.datetime(2021,1,1,15,30).time(),\n",
    "                                         tzinfo=pytz.timezone(\"Asia/Seoul\"))\n",
    "    \n",
    "    return True if (now > open_time and now < close_time) and day not in [\"sat\",\"sun\"] else False\n",
    "\n",
    "d = datetime.datetime(2021,2,10,10,10,23,180470)\n",
    "d_local = pytz.utc.localize(d).astimezone(pytz.timezone(\"Asia/Seoul\"))\n",
    "day_list = ['mon',\"tue\",\"wed\",\"thu\",\"fri\",\"sat\",\"sun\"]\n",
    "a = day_list[d_local.weekday()]\n",
    "checkMarketOpened(getLocalTime())\n"
   ]
  },
  {
   "cell_type": "code",
   "execution_count": null,
   "metadata": {},
   "outputs": [],
   "source": [
    "import pandas as pd \n",
    "class WrongInputError(Exception):\n",
    "    def __init__(self, value):\n",
    "        self.value = str(value)\n",
    "    def __str__(self):\n",
    "        return \"Wrong Input : \" + self.value\n",
    "\n",
    "class TimeError(Exception):\n",
    "    def __init__(self, value):\n",
    "        self.value = value\n",
    "    def __str__(self):\n",
    "        return \"Time Error <Recent trade is occured earlier than now : \" + self.value + \">\"\n",
    "\n",
    "    \n",
    "raise TimeError(str(getLocalTime()))"
   ]
  }
 ],
 "metadata": {
  "kernelspec": {
   "display_name": "Python 3",
   "language": "python",
   "name": "python3"
  },
  "language_info": {
   "codemirror_mode": {
    "name": "ipython",
    "version": 3
   },
   "file_extension": ".py",
   "mimetype": "text/x-python",
   "name": "python",
   "nbconvert_exporter": "python",
   "pygments_lexer": "ipython3",
   "version": "3.7.4"
  }
 },
 "nbformat": 4,
 "nbformat_minor": 4
}
